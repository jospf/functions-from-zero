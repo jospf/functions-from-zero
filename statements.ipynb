{
  "nbformat": 4,
  "nbformat_minor": 0,
  "metadata": {
    "colab": {
      "provenance": [],
      "authorship_tag": "ABX9TyNVpXhi0RPWVOCLKXq3O5tB",
      "include_colab_link": true
    },
    "kernelspec": {
      "name": "python3",
      "display_name": "Python 3"
    },
    "language_info": {
      "name": "python"
    }
  },
  "cells": [
    {
      "cell_type": "markdown",
      "metadata": {
        "id": "view-in-github",
        "colab_type": "text"
      },
      "source": [
        "<a href=\"https://colab.research.google.com/github/jospf/functions-from-zero/blob/main/statements.ipynb\" target=\"_parent\"><img src=\"https://colab.research.google.com/assets/colab-badge.svg\" alt=\"Open In Colab\"/></a>"
      ]
    },
    {
      "cell_type": "markdown",
      "source": [
        "## Learning Statements"
      ],
      "metadata": {
        "id": "l682Hl_-9ZNQ"
      }
    },
    {
      "cell_type": "code",
      "execution_count": 1,
      "metadata": {
        "colab": {
          "base_uri": "https://localhost:8080/"
        },
        "id": "iAUps91_9Jbg",
        "outputId": "a0c1df02-b277-49ac-d0dd-f68b3df32e64"
      },
      "outputs": [
        {
          "output_type": "stream",
          "name": "stdout",
          "text": [
            "hello world\n"
          ]
        }
      ],
      "source": [
        "print(\"hello world\")"
      ]
    },
    {
      "cell_type": "markdown",
      "source": [
        "### Variables"
      ],
      "metadata": {
        "id": "ZLDJjKl-9sE7"
      }
    },
    {
      "cell_type": "code",
      "source": [
        "variable = 1"
      ],
      "metadata": {
        "id": "qv4a6jgt9kMZ"
      },
      "execution_count": 2,
      "outputs": []
    },
    {
      "cell_type": "code",
      "source": [
        "variable"
      ],
      "metadata": {
        "colab": {
          "base_uri": "https://localhost:8080/"
        },
        "id": "7htFKj-S-L-P",
        "outputId": "1ac65bd4-650d-421c-ef9d-f124bbbd889a"
      },
      "execution_count": 3,
      "outputs": [
        {
          "output_type": "execute_result",
          "data": {
            "text/plain": [
              "1"
            ]
          },
          "metadata": {},
          "execution_count": 3
        }
      ]
    },
    {
      "cell_type": "code",
      "source": [
        "x = 1"
      ],
      "metadata": {
        "id": "scSKZEKq-s7H"
      },
      "execution_count": 4,
      "outputs": []
    },
    {
      "cell_type": "code",
      "source": [
        "y = 2"
      ],
      "metadata": {
        "id": "Sj9dEnh8-vB5"
      },
      "execution_count": 5,
      "outputs": []
    },
    {
      "cell_type": "code",
      "source": [
        "x + y"
      ],
      "metadata": {
        "colab": {
          "base_uri": "https://localhost:8080/"
        },
        "id": "GVbyPLUr-wnZ",
        "outputId": "24bada12-60e1-44d5-fc0f-c922ea1cfa1a"
      },
      "execution_count": 6,
      "outputs": [
        {
          "output_type": "execute_result",
          "data": {
            "text/plain": [
              "3"
            ]
          },
          "metadata": {},
          "execution_count": 6
        }
      ]
    },
    {
      "cell_type": "markdown",
      "source": [
        "### Data Structures"
      ],
      "metadata": {
        "id": "5k_W2jMn-7W-"
      }
    },
    {
      "cell_type": "markdown",
      "source": [
        "#### Lists"
      ],
      "metadata": {
        "id": "IRboKh0C_MMr"
      }
    },
    {
      "cell_type": "code",
      "source": [
        "my_list[0]"
      ],
      "metadata": {
        "colab": {
          "base_uri": "https://localhost:8080/"
        },
        "id": "WLBcsSSX_ED0",
        "outputId": "4d4fb8c5-ad55-44e2-ad20-bd2135419350"
      },
      "execution_count": 8,
      "outputs": [
        {
          "output_type": "execute_result",
          "data": {
            "text/plain": [
              "1"
            ]
          },
          "metadata": {},
          "execution_count": 8
        }
      ]
    },
    {
      "cell_type": "code",
      "source": [
        "my_list = [1,2,3]"
      ],
      "metadata": {
        "id": "HBViWWLw--aL"
      },
      "execution_count": 7,
      "outputs": []
    },
    {
      "cell_type": "markdown",
      "source": [
        "#### Dictionaries\n"
      ],
      "metadata": {
        "id": "2Ay5LeT1_WyF"
      }
    },
    {
      "cell_type": "code",
      "source": [
        "my_dict = {1:\"one\", 2:\"two\"}"
      ],
      "metadata": {
        "id": "7RrLyRG__tQo"
      },
      "execution_count": 10,
      "outputs": []
    },
    {
      "cell_type": "code",
      "source": [
        "for key, value in my_dict.items():\n",
        "  print(f\"This is my key: {key}\")\n",
        "  print(f\"This is my value: {value}\")"
      ],
      "metadata": {
        "colab": {
          "base_uri": "https://localhost:8080/"
        },
        "id": "NBe_Nsax_4gS",
        "outputId": "38904528-a7de-4084-ee84-ce75e4bfc53f"
      },
      "execution_count": 11,
      "outputs": [
        {
          "output_type": "stream",
          "name": "stdout",
          "text": [
            "This is my key: 1\n",
            "This is my value: one\n",
            "This is my key: 2\n",
            "This is my value: two\n"
          ]
        }
      ]
    },
    {
      "cell_type": "code",
      "source": [
        "for items in my_list:\n",
        "  print(f\"This is the value in the list: {items}\")"
      ],
      "metadata": {
        "colab": {
          "base_uri": "https://localhost:8080/"
        },
        "id": "XXOSrbjCAoVB",
        "outputId": "318f068d-3806-41ce-c12a-6d9c93782d95"
      },
      "execution_count": 12,
      "outputs": [
        {
          "output_type": "stream",
          "name": "stdout",
          "text": [
            "This is the value in the list: 1\n",
            "This is the value in the list: 2\n",
            "This is the value in the list: 3\n"
          ]
        }
      ]
    }
  ]
}
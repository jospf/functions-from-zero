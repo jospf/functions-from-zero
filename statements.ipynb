{
  "nbformat": 4,
  "nbformat_minor": 0,
  "metadata": {
    "colab": {
      "provenance": [],
      "authorship_tag": "ABX9TyM5Oxfz5eYz7jG53axyHGbv",
      "include_colab_link": true
    },
    "kernelspec": {
      "name": "python3",
      "display_name": "Python 3"
    },
    "language_info": {
      "name": "python"
    }
  },
  "cells": [
    {
      "cell_type": "markdown",
      "metadata": {
        "id": "view-in-github",
        "colab_type": "text"
      },
      "source": [
        "<a href=\"https://colab.research.google.com/github/jospf/functions-from-zero/blob/main/statements.ipynb\" target=\"_parent\"><img src=\"https://colab.research.google.com/assets/colab-badge.svg\" alt=\"Open In Colab\"/></a>"
      ]
    },
    {
      "cell_type": "markdown",
      "source": [
        "## Learning Statements"
      ],
      "metadata": {
        "id": "l682Hl_-9ZNQ"
      }
    },
    {
      "cell_type": "code",
      "execution_count": 1,
      "metadata": {
        "colab": {
          "base_uri": "https://localhost:8080/"
        },
        "id": "iAUps91_9Jbg",
        "outputId": "a0c1df02-b277-49ac-d0dd-f68b3df32e64"
      },
      "outputs": [
        {
          "output_type": "stream",
          "name": "stdout",
          "text": [
            "hello world\n"
          ]
        }
      ],
      "source": [
        "print(\"hello world\")"
      ]
    },
    {
      "cell_type": "markdown",
      "source": [
        "### Variables"
      ],
      "metadata": {
        "id": "ZLDJjKl-9sE7"
      }
    },
    {
      "cell_type": "code",
      "source": [
        "variable = 1"
      ],
      "metadata": {
        "id": "qv4a6jgt9kMZ"
      },
      "execution_count": 2,
      "outputs": []
    }
  ]
}